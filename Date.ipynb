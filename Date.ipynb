{
 "cells": [
  {
   "cell_type": "code",
   "execution_count": 1,
   "id": "5117ac24-39c9-4947-9cff-6bcfca81bd79",
   "metadata": {},
   "outputs": [],
   "source": [
    "import pandas as pd\n",
    "\n",
    "# Define the start and end date\n",
    "start_date = '2015-01-01'\n",
    "end_date = '2030-12-31'"
   ]
  },
  {
   "cell_type": "code",
   "execution_count": 2,
   "id": "f7b4ef80-1021-4f36-9e1a-09f65a0d501a",
   "metadata": {},
   "outputs": [],
   "source": [
    "# Create a date range\n",
    "date_range = pd.date_range(start=start_date, end=end_date)\n",
    "\n",
    "# Create DataFrame\n",
    "date_table = pd.DataFrame({'Date': date_range})"
   ]
  },
  {
   "cell_type": "code",
   "execution_count": 3,
   "id": "ebbb8fbd-a611-4f7e-991b-cefd52ed50e6",
   "metadata": {},
   "outputs": [],
   "source": [
    "# Derive useful fields\n",
    "date_table['DateKey'] = date_table['Date'].dt.strftime('%Y%m%d').astype(int)\n",
    "date_table['Year'] = date_table['Date'].dt.year\n",
    "date_table['Quarter'] = date_table['Date'].dt.quarter\n",
    "date_table['Month'] = date_table['Date'].dt.month\n",
    "date_table['MonthName'] = date_table['Date'].dt.strftime('%B')\n",
    "date_table['MonthShort'] = date_table['Date'].dt.strftime('%b')\n",
    "date_table['Day'] = date_table['Date'].dt.day\n",
    "date_table['DayOfWeek'] = date_table['Date'].dt.dayofweek + 1  # Monday=1, Sunday=7\n",
    "date_table['DayName'] = date_table['Date'].dt.strftime('%A')\n",
    "date_table['WeekOfYear'] = date_table['Date'].dt.isocalendar().week\n",
    "date_table['IsWeekend'] = date_table['DayOfWeek'].isin([6, 7])\n",
    "date_table['YearMonth'] = date_table['Date'].dt.strftime('%Y-%m')\n",
    "date_table['YearQuarter'] = date_table['Year'].astype(str) + ' Q' + date_table['Quarter'].astype(str)\n",
    "date_table['HalfYear'] = date_table['Date'].dt.month.map(lambda m: 1 if m <= 6 else 2)"
   ]
  },
  {
   "cell_type": "code",
   "execution_count": 4,
   "id": "c609ea26-87ee-4f64-b250-77e96de25f4f",
   "metadata": {},
   "outputs": [],
   "source": [
    "# Fiscal and Calendar naming\n",
    "date_table['FiscalYear'] = 'FY' + date_table['Year'].astype(str)\n",
    "date_table['CalendarYear'] = 'CY' + date_table['Year'].astype(str)\n",
    "date_table['QuarterYear'] = 'Q' + date_table['Quarter'].astype(str) + '-' + date_table['Year'].astype(str)\n",
    "date_table['MonthYear'] = 'M' + date_table['Month'].astype(str) + '-' + date_table['Year'].astype(str)"
   ]
  },
  {
   "cell_type": "code",
   "execution_count": 5,
   "id": "485baa71-425a-40dd-ab10-8225a0e3fedb",
   "metadata": {},
   "outputs": [],
   "source": [
    "# Optional: fiscal year starting in April\n",
    "# Uncomment below if your fiscal year starts in April\n",
    "# date_table['FiscalYear'] = date_table['Date'].apply(lambda d: f\"FY{d.year if d.month >= 4 else d.year - 1}\")\n",
    "\n",
    "# Reorder columns for better readability\n",
    "date_table = date_table[\n",
    "    [\n",
    "        'DateKey', 'Date', 'Year', 'CalendarYear', 'FiscalYear', 'Quarter', 'QuarterYear',\n",
    "        'Month', 'MonthYear', 'MonthName', 'MonthShort', 'Day', 'DayOfWeek', 'DayName',\n",
    "        'WeekOfYear', 'IsWeekend', 'YearMonth', 'YearQuarter', 'HalfYear'\n",
    "    ]\n",
    "]"
   ]
  },
  {
   "cell_type": "code",
   "execution_count": 6,
   "id": "e4c38a99-890d-41c6-a6f5-c70058dcff0d",
   "metadata": {},
   "outputs": [],
   "source": [
    "# Export to Excel\n",
    "output_file = 'date_table_2015_2030.xlsx'\n",
    "date_table.to_excel(output_file, index=False)"
   ]
  },
  {
   "cell_type": "code",
   "execution_count": 7,
   "id": "ed335fbe-115d-4bae-b41f-c52421bc14d8",
   "metadata": {},
   "outputs": [
    {
     "name": "stdout",
     "output_type": "stream",
     "text": [
      "✅ Date table generated successfully and saved as 'date_table_2015_2030.xlsx'\n",
      "    DateKey       Date  Year CalendarYear FiscalYear  Quarter QuarterYear  \\\n",
      "0  20150101 2015-01-01  2015       CY2015     FY2015        1     Q1-2015   \n",
      "1  20150102 2015-01-02  2015       CY2015     FY2015        1     Q1-2015   \n",
      "2  20150103 2015-01-03  2015       CY2015     FY2015        1     Q1-2015   \n",
      "3  20150104 2015-01-04  2015       CY2015     FY2015        1     Q1-2015   \n",
      "4  20150105 2015-01-05  2015       CY2015     FY2015        1     Q1-2015   \n",
      "5  20150106 2015-01-06  2015       CY2015     FY2015        1     Q1-2015   \n",
      "6  20150107 2015-01-07  2015       CY2015     FY2015        1     Q1-2015   \n",
      "7  20150108 2015-01-08  2015       CY2015     FY2015        1     Q1-2015   \n",
      "8  20150109 2015-01-09  2015       CY2015     FY2015        1     Q1-2015   \n",
      "9  20150110 2015-01-10  2015       CY2015     FY2015        1     Q1-2015   \n",
      "\n",
      "   Month MonthYear MonthName MonthShort  Day  DayOfWeek    DayName  \\\n",
      "0      1   M1-2015   January        Jan    1          4   Thursday   \n",
      "1      1   M1-2015   January        Jan    2          5     Friday   \n",
      "2      1   M1-2015   January        Jan    3          6   Saturday   \n",
      "3      1   M1-2015   January        Jan    4          7     Sunday   \n",
      "4      1   M1-2015   January        Jan    5          1     Monday   \n",
      "5      1   M1-2015   January        Jan    6          2    Tuesday   \n",
      "6      1   M1-2015   January        Jan    7          3  Wednesday   \n",
      "7      1   M1-2015   January        Jan    8          4   Thursday   \n",
      "8      1   M1-2015   January        Jan    9          5     Friday   \n",
      "9      1   M1-2015   January        Jan   10          6   Saturday   \n",
      "\n",
      "   WeekOfYear  IsWeekend YearMonth YearQuarter  HalfYear  \n",
      "0           1      False   2015-01     2015 Q1         1  \n",
      "1           1      False   2015-01     2015 Q1         1  \n",
      "2           1       True   2015-01     2015 Q1         1  \n",
      "3           1       True   2015-01     2015 Q1         1  \n",
      "4           2      False   2015-01     2015 Q1         1  \n",
      "5           2      False   2015-01     2015 Q1         1  \n",
      "6           2      False   2015-01     2015 Q1         1  \n",
      "7           2      False   2015-01     2015 Q1         1  \n",
      "8           2      False   2015-01     2015 Q1         1  \n",
      "9           2       True   2015-01     2015 Q1         1  \n"
     ]
    }
   ],
   "source": [
    "print(f\"✅ Date table generated successfully and saved as '{output_file}'\")\n",
    "print(date_table.head(10))"
   ]
  },
  {
   "cell_type": "code",
   "execution_count": null,
   "id": "e1f1c72d-afb4-4c56-9edc-423ba09badf5",
   "metadata": {},
   "outputs": [],
   "source": []
  }
 ],
 "metadata": {
  "kernelspec": {
   "display_name": "Python 3 (ipykernel)",
   "language": "python",
   "name": "python3"
  },
  "language_info": {
   "codemirror_mode": {
    "name": "ipython",
    "version": 3
   },
   "file_extension": ".py",
   "mimetype": "text/x-python",
   "name": "python",
   "nbconvert_exporter": "python",
   "pygments_lexer": "ipython3",
   "version": "3.11.7"
  }
 },
 "nbformat": 4,
 "nbformat_minor": 5
}
